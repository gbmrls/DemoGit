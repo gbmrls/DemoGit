{
 "cells": [
  {
   "cell_type": "markdown",
   "metadata": {},
   "source": [
    "# Simulación"
   ]
  },
  {
   "cell_type": "markdown",
   "metadata": {},
   "source": [
    "- especular\n",
    "- presentar algo de una manera que parece real\n",
    "- resolver problemas matemáticos \n",
    "- recreación de escenarios verdaderos cambiando variables para ver los diferentes resultados\n",
    "- Abstracción de un fenómeno/proceso a **otro** para entender el comportamiento del original.\n"
   ]
  },
  {
   "cell_type": "markdown",
   "metadata": {},
   "source": []
  },
  {
   "cell_type": "markdown",
   "metadata": {},
   "source": []
  },
  {
   "cell_type": "markdown",
   "metadata": {},
   "source": [
    "## Subtítulo\n",
    "\n",
    "bla bla bla\n",
    "\n",
    "$$ \\frac{1}{2} $$"
   ]
  },
  {
   "cell_type": "markdown",
   "metadata": {},
   "source": []
  },
  {
   "cell_type": "code",
   "execution_count": 1,
   "metadata": {},
   "outputs": [
    {
     "data": {
      "text/plain": [
       "2"
      ]
     },
     "execution_count": 1,
     "metadata": {},
     "output_type": "execute_result"
    }
   ],
   "source": [
    "1 + 1"
   ]
  },
  {
   "cell_type": "code",
   "execution_count": 2,
   "metadata": {},
   "outputs": [
    {
     "data": {
      "text/plain": [
       "4"
      ]
     },
     "execution_count": 2,
     "metadata": {},
     "output_type": "execute_result"
    }
   ],
   "source": [
    "2 + 2"
   ]
  },
  {
   "cell_type": "markdown",
   "metadata": {},
   "source": []
  },
  {
   "cell_type": "markdown",
   "metadata": {},
   "source": [
    "## ¿Por qué simular?"
   ]
  },
  {
   "cell_type": "markdown",
   "metadata": {},
   "source": [
    "- poder probar varias veces si la solución que nosotros creemos que va a dar funcionará\n",
    "- simplificar un proceso / que sea más entendible\n",
    "- ayudar a buscar cuál es la mejor opción cuando nos dan varios resultados\n",
    "- margen de error\n",
    "\n",
    "- Reducción de costos\n",
    "- \n",
    "- "
   ]
  },
  {
   "cell_type": "markdown",
   "metadata": {},
   "source": [
    "## Por ejemplo...\n",
    "\n",
    "Quieres jugar un juego de mesa, pero perdiste los dados."
   ]
  },
  {
   "cell_type": "code",
   "execution_count": 4,
   "metadata": {},
   "outputs": [],
   "source": [
    "import numpy as np\n"
   ]
  },
  {
   "cell_type": "code",
   "execution_count": 5,
   "metadata": {},
   "outputs": [],
   "source": [
    "np.random.choice?"
   ]
  },
  {
   "cell_type": "code",
   "execution_count": 40,
   "metadata": {},
   "outputs": [
    {
     "data": {
      "text/plain": [
       "5"
      ]
     },
     "execution_count": 40,
     "metadata": {},
     "output_type": "execute_result"
    }
   ],
   "source": [
    "dado = [1, 2, 3, 4, 5, 6]\n",
    "\n",
    "resultado = np.random.choice(dado, size=2)\n",
    "\n",
    "np.sum(resultado)"
   ]
  },
  {
   "cell_type": "code",
   "execution_count": 39,
   "metadata": {},
   "outputs": [],
   "source": [
    "np.random.randint?\n",
    "\n",
    "# [low, high)"
   ]
  },
  {
   "cell_type": "markdown",
   "metadata": {},
   "source": [
    "Imaginemos que queremos ver cómo funciona el teorema del límite central.\n",
    "\n",
    "Decidimos tirar 100 veces un par de dados."
   ]
  },
  {
   "cell_type": "code",
   "execution_count": 52,
   "metadata": {},
   "outputs": [],
   "source": [
    "resultados = []\n",
    "\n",
    "for i in range(100000) :\n",
    "    resultado = np.random.randint(low=1, high=7, size=2)\n",
    "    resultados.append(np.sum(resultado))\n",
    "\n",
    "# print(resultados)"
   ]
  },
  {
   "cell_type": "markdown",
   "metadata": {},
   "source": [
    "Ya tirados los 10000 dados, queremos ver una gráfica de frecuencias para saber en cuál me conviene más poner mi casita."
   ]
  },
  {
   "cell_type": "code",
   "execution_count": 53,
   "metadata": {},
   "outputs": [
    {
     "data": {
      "text/plain": [
       "(array([ 2753.,  5658.,  8266., 11104., 14039., 16576., 13787., 11226.,\n",
       "         8342.,  8249.]),\n",
       " array([ 2.,  3.,  4.,  5.,  6.,  7.,  8.,  9., 10., 11., 12.]),\n",
       " <BarContainer object of 10 artists>)"
      ]
     },
     "execution_count": 53,
     "metadata": {},
     "output_type": "execute_result"
    },
    {
     "data": {
      "image/png": "[encoded data removed]",
      "text/plain": [
       "<Figure size 432x288 with 1 Axes>"
      ]
     },
     "metadata": {
      "needs_background": "light"
     },
     "output_type": "display_data"
    }
   ],
   "source": [
    "import matplotlib.pyplot as plt\n",
    "\n",
    "%matplotlib inline\n",
    "\n",
    "plt.hist(resultados)"
   ]
  },
  {
   "cell_type": "code",
   "execution_count": 54,
   "metadata": {},
   "outputs": [],
   "source": [
    "alumnos = [\"ALFONSO SALVADOR AMEZCUA JIMENEZ\",\n",
    "\"CARLOS BARBOZA OCHOA\",\n",
    "\"JUAN PABLO DOMINGUEZ RODRIGUEZ\",\n",
    "\"SANTIAGO FIGUEIRAS GARCIA\",\n",
    "\"JORGE LUIS GONZALEZ DE LA CERDA\",\n",
    "\"JOSE DANIEL GUTIERREZ GARCIA\",\n",
    "\"ILSE VALERIA GUTIERREZ VIZCAINO\",\n",
    "\"SOFIA HERNANDEZ ZATARAIN\",\n",
    "\"JOSE CARLOS LOPEZ AGUILAR\",\n",
    "\"CECILIA ALEJANDRA MANCILLA OLIVERA\",\n",
    "\"ALEJANDRO MIRONES GONZALEZ\",\n",
    "\"JESUS EMMANUEL PALOMERA GAYTAN\",\n",
    "\"JOSE ROBERTO VACA ALVARADO\",\n",
    "\"HUGO GABRIEL VELARDE PEREZ\",\n",
    "\"SERGIO VILLA GARCIA\"]"
   ]
  },
  {
   "cell_type": "code",
   "execution_count": 56,
   "metadata": {
    "scrolled": true
   },
   "outputs": [
    {
     "data": {
      "text/plain": [
       "'HUGO GABRIEL VELARDE PEREZ'"
      ]
     },
     "execution_count": 56,
     "metadata": {},
     "output_type": "execute_result"
    }
   ],
   "source": [
    "np.random.choice(alumnos)"
   ]
  },
  {
   "cell_type": "code",
   "execution_count": 57,
   "metadata": {},
   "outputs": [],
   "source": [
    "np.random.uniform?"
   ]
  },
  {
   "cell_type": "code",
   "execution_count": 64,
   "metadata": {},
   "outputs": [],
   "source": [
    "tornillos = np.random.uniform(low=9, high=11.0000000001, size=10000)\n",
    "# print(tornillos)"
   ]
  },
  {
   "cell_type": "code",
   "execution_count": 65,
   "metadata": {},
   "outputs": [],
   "source": [
    "tuercas = np.random.uniform(low=1.9, high=2.1, size=10000)\n",
    "# print(tuercas)"
   ]
  },
  {
   "cell_type": "code",
   "execution_count": 62,
   "metadata": {},
   "outputs": [
    {
     "data": {
      "text/plain": [
       "array([11.69171399, 11.61490003, 12.77170239, 12.46544337, 11.14694349,\n",
       "       11.68663187, 11.2986787 , 12.11472634, 11.99137055, 11.46646841,\n",
       "       12.8168513 , 11.71745901, 12.92356874, 12.74095052, 12.53532946,\n",
       "       11.77031318, 11.17358264, 12.84432925, 12.02496427, 12.91171702,\n",
       "       12.31563033, 12.21090176, 12.63489887, 11.97849583, 12.98963553,\n",
       "       11.42719991, 12.03295989, 11.80988157, 11.86685885, 11.61224968,\n",
       "       12.00008058, 12.27101828, 13.00288777, 11.37743997, 11.10455236,\n",
       "       12.40478456, 11.2104481 , 12.88999288, 12.52522845, 11.24390795,\n",
       "       11.55811198, 12.36246478, 12.42606091, 12.81847089, 12.01930694,\n",
       "       12.44065653, 12.19317615, 11.47199839, 12.11567219, 12.75282543,\n",
       "       11.09657586, 11.54958687, 12.16957334, 11.42026988, 11.41842255,\n",
       "       12.9168157 , 11.84395779, 12.13978356, 12.34882335, 11.45319736,\n",
       "       11.66633089, 12.63715441, 12.05016912, 12.85807737, 11.27454657,\n",
       "       11.6305409 , 12.7056881 , 12.82995946, 12.67627942, 12.02697076,\n",
       "       11.45444183, 11.85931653, 12.45861173, 12.72247469, 12.05466941,\n",
       "       11.81490258, 11.60961703, 11.22169385, 11.45504981, 11.05518965,\n",
       "       11.68767889, 12.26134416, 11.22485394, 12.36461713, 12.96220426,\n",
       "       11.79334447, 11.57229971, 11.79353495, 12.61330158, 11.03095013,\n",
       "       11.67479135, 12.98466544, 12.0079865 , 11.63988256, 12.85461162,\n",
       "       12.785762  , 12.66864836, 12.08682015, 12.17581186, 12.18243173])"
      ]
     },
     "execution_count": 62,
     "metadata": {},
     "output_type": "execute_result"
    }
   ],
   "source": [
    "tuercas + tornillos"
   ]
  },
  {
   "cell_type": "code",
   "execution_count": 66,
   "metadata": {},
   "outputs": [
    {
     "data": {
      "text/plain": [
       "(array([ 628., 1078., 1041., 1153., 1059., 1138., 1117., 1121., 1049.,\n",
       "         616.]),\n",
       " array([10.90851671, 11.12724611, 11.34597552, 11.56470492, 11.78343432,\n",
       "        12.00216373, 12.22089313, 12.43962253, 12.65835193, 12.87708134,\n",
       "        13.09581074]),\n",
       " <BarContainer object of 10 artists>)"
      ]
     },
     "execution_count": 66,
     "metadata": {},
     "output_type": "execute_result"
    },
    {
     "data": {
      "image/png": "[encoded data removed]",
      "text/plain": [
       "<Figure size 432x288 with 1 Axes>"
      ]
     },
     "metadata": {
      "needs_background": "light"
     },
     "output_type": "display_data"
    }
   ],
   "source": [
    "plt.hist(tuercas + tornillos)"
   ]
  },
  {
   "cell_type": "markdown",
   "metadata": {},
   "source": [
    "Imaginemos que tenemos una hielera con muchos refrescos.\n",
    "\n",
    "Vas a meter la mano y el refresco que agarres es el que te toca."
   ]
  },
  {
   "cell_type": "code",
   "execution_count": 68,
   "metadata": {},
   "outputs": [
    {
     "data": {
      "text/plain": [
       "1.0"
      ]
     },
     "execution_count": 68,
     "metadata": {},
     "output_type": "execute_result"
    }
   ],
   "source": [
    "hielera = [\"Coca Cola Light\",\n",
    "           \"Coca Cola sin azúcar\",\n",
    "           \"Fanta\",\n",
    "           \"Sprite\",\n",
    "           \"Pepsi\",\n",
    "           \"Manzanita\",\n",
    "           \"Delaware\",\n",
    "           \"Freska\",\n",
    "           \"Pepsi Black\"]\n",
    "\n",
    "prop = [0.25, # Coca light\n",
    "        0.20, # Coca sin azúcar\n",
    "        0.05, # Fanta\n",
    "        0.20, # Sprite\n",
    "        0.05, # Pepsi\n",
    "        0.05, # Manzanita\n",
    "        0.05, # Delaware\n",
    "        0.10, # Freska\n",
    "        0.05, # Pepsi Black\n",
    "       ]\n",
    "\n"
   ]
  },
  {
   "cell_type": "code",
   "execution_count": 69,
   "metadata": {},
   "outputs": [],
   "source": [
    "np.random.choice?"
   ]
  },
  {
   "cell_type": "code",
   "execution_count": 81,
   "metadata": {
    "scrolled": true
   },
   "outputs": [
    {
     "data": {
      "text/plain": [
       "array(['Sprite', 'Coca Cola Light', 'Fanta', 'Freska', 'Coca Cola Light',\n",
       "       'Sprite', 'Sprite', 'Coca Cola Light', 'Coca Cola sin azúcar',\n",
       "       'Coca Cola sin azúcar', 'Sprite', 'Coca Cola Light', 'Delaware',\n",
       "       'Coca Cola sin azúcar', 'Sprite', 'Freska', 'Coca Cola Light',\n",
       "       'Freska', 'Coca Cola Light', 'Delaware', 'Freska',\n",
       "       'Coca Cola Light', 'Coca Cola Light', 'Pepsi Black',\n",
       "       'Coca Cola Light', 'Sprite', 'Sprite', 'Coca Cola sin azúcar',\n",
       "       'Coca Cola sin azúcar', 'Pepsi Black', 'Fanta',\n",
       "       'Coca Cola sin azúcar', 'Sprite', 'Coca Cola Light', 'Freska',\n",
       "       'Coca Cola sin azúcar', 'Sprite', 'Coca Cola Light', 'Freska',\n",
       "       'Sprite', 'Coca Cola Light', 'Coca Cola sin azúcar',\n",
       "       'Coca Cola Light', 'Coca Cola sin azúcar', 'Sprite', 'Fanta',\n",
       "       'Manzanita', 'Freska', 'Sprite', 'Freska', 'Delaware', 'Delaware',\n",
       "       'Pepsi', 'Coca Cola Light', 'Coca Cola Light', 'Freska', 'Sprite',\n",
       "       'Coca Cola Light', 'Sprite', 'Coca Cola Light', 'Coca Cola Light',\n",
       "       'Coca Cola Light', 'Coca Cola sin azúcar', 'Fanta', 'Freska',\n",
       "       'Sprite', 'Pepsi', 'Sprite', 'Coca Cola Light', 'Pepsi Black',\n",
       "       'Coca Cola Light', 'Sprite', 'Coca Cola Light', 'Coca Cola Light',\n",
       "       'Coca Cola sin azúcar', 'Delaware', 'Coca Cola Light',\n",
       "       'Pepsi Black', 'Pepsi Black', 'Sprite', 'Sprite', 'Sprite',\n",
       "       'Coca Cola sin azúcar', 'Freska', 'Coca Cola Light',\n",
       "       'Coca Cola Light', 'Coca Cola Light', 'Manzanita', 'Manzanita',\n",
       "       'Manzanita', 'Coca Cola Light', 'Sprite', 'Manzanita', 'Sprite',\n",
       "       'Coca Cola Light', 'Coca Cola sin azúcar', 'Manzanita', 'Pepsi',\n",
       "       'Coca Cola Light', 'Sprite'], dtype='<U20')"
      ]
     },
     "execution_count": 81,
     "metadata": {},
     "output_type": "execute_result"
    }
   ],
   "source": [
    "np.random.choice(hielera, p=prop, size=100)"
   ]
  },
  {
   "cell_type": "markdown",
   "metadata": {},
   "source": [
    "# Herramientas\n",
    "\n",
    "### - [python](https://www.python.org) - [Anaconda](https://www.anaconda.com/distribution/) - [Jupyter](http://jupyter.org)\n",
    "\n",
    " <div>\n",
    "<img style=\"float: left; margin: 0px 0px 15px 15px;\" src=\"https://www.python.org/static/community_logos/python-logo.png\" width=\"200px\" height=\"200px\" alt=\"atom\" />\n",
    "<img style=\"float: left; margin: 0px 0px 15px 15px;\" src=\"https://upload.wikimedia.org/wikipedia/en/c/cd/Anaconda_Logo.png\" width=\"120\" />\n",
    "<img style=\"float: left; margin: 0px 0px 15px 15px;\" src=\"http://jupyter.org/assets/main-logo.svg\" width=\"80\" />"
   ]
  },
  {
   "cell_type": "code",
   "execution_count": null,
   "metadata": {},
   "outputs": [],
   "source": []
  },
  {
   "cell_type": "code",
   "execution_count": null,
   "metadata": {},
   "outputs": [],
   "source": []
  },
  {
   "cell_type": "markdown",
   "metadata": {},
   "source": [
    "- [Markdown](https://confluence.atlassian.com/bitbucketserver/markdown-syntax-guide-776639995.html)\n",
    "- [git](https://git-scm.com)\n",
    "- [GitHub](https://github.com)\n",
    "- [GitKraken](https://www.gitkraken.com/)"
   ]
  },
  {
   "cell_type": "markdown",
   "metadata": {},
   "source": [
    "# Tarea\n",
    "\n",
    "1. Instalar Git y crear una cuenta de GitHub.\n",
    "2. Crear un Jupyter Notebook que contenga una presentación personal y una ligera introducción a un tema cualquiera de tu licenciatura. Usar `Markdown`.\n",
    "3. Subir el Notebook a un repositorio personal que estarás usando durante este semestre. (La siguiente clase les enseñaré cómo se usa Git)"
   ]
  },
  {
   "cell_type": "code",
   "execution_count": null,
   "metadata": {},
   "outputs": [],
   "source": []
  }
 ],
 "metadata": {
  "kernelspec": {
   "display_name": "Python 3",
   "language": "python",
   "name": "python3"
  },
  "language_info": {
   "codemirror_mode": {
    "name": "ipython",
    "version": 3
   },
   "file_extension": ".py",
   "mimetype": "text/x-python",
   "name": "python",
   "nbconvert_exporter": "python",
   "pygments_lexer": "ipython3",
   "version": "3.8.5"
  }
 },
 "nbformat": 4,
 "nbformat_minor": 4
}
